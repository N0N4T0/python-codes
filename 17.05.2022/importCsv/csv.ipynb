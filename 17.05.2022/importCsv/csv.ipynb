{
 "cells": [
  {
   "cell_type": "code",
   "execution_count": 2,
   "metadata": {},
   "outputs": [],
   "source": [
    "import csv\n",
    "\n",
    "with open('tabelaExemplo.csv', 'w') as arquivo:\n",
    "    escritor = csv.writer(arquivo, delimiter = ';', lineterminator = '\\n') #criando um escritor\n",
    "    lista = [[1, 2, 3], [4, 5, 6], [7, 8, 9]]\n",
    "    escritor.writerows(lista) # writerows escreve cada \"sublista\" da lista como uma linha"
   ]
  },
  {
   "cell_type": "code",
   "execution_count": 3,
   "metadata": {},
   "outputs": [
    {
     "name": "stdout",
     "output_type": "stream",
     "text": [
      "O conteúdo do arquivo é:\n",
      "<_csv.reader object at 0x00000255149C72E0>\n",
      "['1', '2', '3']\n",
      "['4', '5', '6']\n",
      "['7', '8', '9']\n"
     ]
    }
   ],
   "source": [
    "with open('tabelaExemplo.csv', \"r\") as arquivo:\n",
    "    leitor = csv.reader(arquivo, delimiter = ';', lineterminator = '\\n') #criando um leitor\n",
    "    print(\"O conteúdo do arquivo é:\")\n",
    "    print(leitor)\n",
    "    for linha in leitor:\n",
    "        print(linha)"
   ]
  }
 ],
 "metadata": {
  "interpreter": {
   "hash": "f5e677b134d41436523c68f398610389c918dd59f37b430d514cbed13e3fb634"
  },
  "kernelspec": {
   "display_name": "Python 3.10.0 64-bit",
   "language": "python",
   "name": "python3"
  },
  "language_info": {
   "codemirror_mode": {
    "name": "ipython",
    "version": 3
   },
   "file_extension": ".py",
   "mimetype": "text/x-python",
   "name": "python",
   "nbconvert_exporter": "python",
   "pygments_lexer": "ipython3",
   "version": "3.10.0"
  },
  "orig_nbformat": 4
 },
 "nbformat": 4,
 "nbformat_minor": 2
}
