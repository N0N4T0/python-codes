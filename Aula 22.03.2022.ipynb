{
 "cells": [
  {
   "cell_type": "code",
   "execution_count": 8,
   "id": "5b138fdf",
   "metadata": {},
   "outputs": [],
   "source": [
    "x = 10"
   ]
  },
  {
   "cell_type": "code",
   "execution_count": 9,
   "id": "c7f08082",
   "metadata": {},
   "outputs": [
    {
     "data": {
      "text/plain": [
       "10"
      ]
     },
     "execution_count": 9,
     "metadata": {},
     "output_type": "execute_result"
    }
   ],
   "source": [
    "x"
   ]
  },
  {
   "cell_type": "code",
   "execution_count": 10,
   "id": "93b45943",
   "metadata": {},
   "outputs": [
    {
     "ename": "NameError",
     "evalue": "name 'X' is not defined",
     "output_type": "error",
     "traceback": [
      "\u001b[1;31m---------------------------------------------------------------------------\u001b[0m",
      "\u001b[1;31mNameError\u001b[0m                                 Traceback (most recent call last)",
      "\u001b[1;32m~\\AppData\\Local\\Temp/ipykernel_4024/3777217377.py\u001b[0m in \u001b[0;36m<module>\u001b[1;34m\u001b[0m\n\u001b[1;32m----> 1\u001b[1;33m \u001b[0mX\u001b[0m\u001b[1;33m\u001b[0m\u001b[1;33m\u001b[0m\u001b[0m\n\u001b[0m",
      "\u001b[1;31mNameError\u001b[0m: name 'X' is not defined"
     ]
    }
   ],
   "source": [
    "X"
   ]
  },
  {
   "cell_type": "code",
   "execution_count": 11,
   "id": "65cc9624",
   "metadata": {},
   "outputs": [],
   "source": [
    "X = 8"
   ]
  },
  {
   "cell_type": "code",
   "execution_count": 12,
   "id": "6e369f3e",
   "metadata": {},
   "outputs": [
    {
     "data": {
      "text/plain": [
       "8"
      ]
     },
     "execution_count": 12,
     "metadata": {},
     "output_type": "execute_result"
    }
   ],
   "source": [
    "X"
   ]
  },
  {
   "cell_type": "code",
   "execution_count": 13,
   "id": "999da975",
   "metadata": {},
   "outputs": [
    {
     "data": {
      "text/plain": [
       "10"
      ]
     },
     "execution_count": 13,
     "metadata": {},
     "output_type": "execute_result"
    }
   ],
   "source": [
    "x"
   ]
  },
  {
   "cell_type": "code",
   "execution_count": 14,
   "id": "4f428b61",
   "metadata": {},
   "outputs": [
    {
     "data": {
      "text/plain": [
       "int"
      ]
     },
     "execution_count": 14,
     "metadata": {},
     "output_type": "execute_result"
    }
   ],
   "source": [
    "type(x)"
   ]
  },
  {
   "cell_type": "code",
   "execution_count": 15,
   "id": "91cea6e6",
   "metadata": {},
   "outputs": [],
   "source": [
    "a = 2.0"
   ]
  },
  {
   "cell_type": "code",
   "execution_count": 16,
   "id": "39f5ac8c",
   "metadata": {},
   "outputs": [
    {
     "data": {
      "text/plain": [
       "float"
      ]
     },
     "execution_count": 16,
     "metadata": {},
     "output_type": "execute_result"
    }
   ],
   "source": [
    "type(a)"
   ]
  },
  {
   "cell_type": "code",
   "execution_count": 17,
   "id": "ab791624",
   "metadata": {},
   "outputs": [],
   "source": [
    "b = 'Danilo'"
   ]
  },
  {
   "cell_type": "code",
   "execution_count": 18,
   "id": "504cde78",
   "metadata": {},
   "outputs": [
    {
     "data": {
      "text/plain": [
       "str"
      ]
     },
     "execution_count": 18,
     "metadata": {},
     "output_type": "execute_result"
    }
   ],
   "source": [
    "type(b)"
   ]
  },
  {
   "cell_type": "code",
   "execution_count": 19,
   "id": "3c3afefb",
   "metadata": {},
   "outputs": [
    {
     "data": {
      "text/plain": [
       "10.0"
      ]
     },
     "execution_count": 19,
     "metadata": {},
     "output_type": "execute_result"
    }
   ],
   "source": [
    "float(x)"
   ]
  },
  {
   "cell_type": "code",
   "execution_count": 20,
   "id": "3d95d84d",
   "metadata": {},
   "outputs": [
    {
     "data": {
      "text/plain": [
       "2"
      ]
     },
     "execution_count": 20,
     "metadata": {},
     "output_type": "execute_result"
    }
   ],
   "source": [
    "int(a)"
   ]
  },
  {
   "cell_type": "code",
   "execution_count": 29,
   "id": "a0723cb9",
   "metadata": {},
   "outputs": [
    {
     "name": "stdout",
     "output_type": "stream",
     "text": [
      "Idade: 10\n"
     ]
    }
   ],
   "source": [
    "idade = input(\"Idade: \")"
   ]
  },
  {
   "cell_type": "code",
   "execution_count": 30,
   "id": "408fec9c",
   "metadata": {},
   "outputs": [
    {
     "data": {
      "text/plain": [
       "'10'"
      ]
     },
     "execution_count": 30,
     "metadata": {},
     "output_type": "execute_result"
    }
   ],
   "source": [
    "idade"
   ]
  },
  {
   "cell_type": "code",
   "execution_count": 31,
   "id": "eeb6b52f",
   "metadata": {},
   "outputs": [
    {
     "data": {
      "text/plain": [
       "str"
      ]
     },
     "execution_count": 31,
     "metadata": {},
     "output_type": "execute_result"
    }
   ],
   "source": [
    "type(idade)"
   ]
  },
  {
   "cell_type": "code",
   "execution_count": 32,
   "id": "2444996e",
   "metadata": {},
   "outputs": [
    {
     "name": "stdout",
     "output_type": "stream",
     "text": [
      "Idade: 20\n"
     ]
    }
   ],
   "source": [
    "idade = int(input(\"Idade: \"))"
   ]
  },
  {
   "cell_type": "code",
   "execution_count": 33,
   "id": "32b8d812",
   "metadata": {},
   "outputs": [
    {
     "data": {
      "text/plain": [
       "20"
      ]
     },
     "execution_count": 33,
     "metadata": {},
     "output_type": "execute_result"
    }
   ],
   "source": [
    "idade"
   ]
  },
  {
   "cell_type": "code",
   "execution_count": 34,
   "id": "62993d32",
   "metadata": {},
   "outputs": [
    {
     "data": {
      "text/plain": [
       "int"
      ]
     },
     "execution_count": 34,
     "metadata": {},
     "output_type": "execute_result"
    }
   ],
   "source": [
    "type(idade)"
   ]
  },
  {
   "cell_type": "code",
   "execution_count": 35,
   "id": "21a1dff3",
   "metadata": {},
   "outputs": [],
   "source": [
    "dolar = 5.3"
   ]
  },
  {
   "cell_type": "code",
   "execution_count": 36,
   "id": "5b4ccd22",
   "metadata": {},
   "outputs": [],
   "source": [
    "real = 1"
   ]
  },
  {
   "cell_type": "code",
   "execution_count": 37,
   "id": "84dde3cf",
   "metadata": {},
   "outputs": [
    {
     "name": "stdout",
     "output_type": "stream",
     "text": [
      "True\n"
     ]
    }
   ],
   "source": [
    "print(dolar > real)"
   ]
  },
  {
   "cell_type": "code",
   "execution_count": 38,
   "id": "e54a7b04",
   "metadata": {},
   "outputs": [
    {
     "name": "stdout",
     "output_type": "stream",
     "text": [
      "False\n"
     ]
    }
   ],
   "source": [
    "print(dolar < real)"
   ]
  },
  {
   "cell_type": "code",
   "execution_count": 39,
   "id": "fb59fa73",
   "metadata": {},
   "outputs": [
    {
     "name": "stdout",
     "output_type": "stream",
     "text": [
      "False\n"
     ]
    }
   ],
   "source": [
    "print(dolar == real)"
   ]
  },
  {
   "cell_type": "code",
   "execution_count": 40,
   "id": "8f9e1f02",
   "metadata": {},
   "outputs": [
    {
     "name": "stdout",
     "output_type": "stream",
     "text": [
      "True\n"
     ]
    }
   ],
   "source": [
    "print(dolar >= real)"
   ]
  },
  {
   "cell_type": "code",
   "execution_count": 41,
   "id": "e3a898e5",
   "metadata": {},
   "outputs": [
    {
     "name": "stdout",
     "output_type": "stream",
     "text": [
      "False\n"
     ]
    }
   ],
   "source": [
    "print(dolar <= real)"
   ]
  },
  {
   "cell_type": "code",
   "execution_count": 42,
   "id": "27b1e0a0",
   "metadata": {},
   "outputs": [
    {
     "name": "stdout",
     "output_type": "stream",
     "text": [
      "True\n"
     ]
    }
   ],
   "source": [
    "print(dolar != real)"
   ]
  },
  {
   "cell_type": "code",
   "execution_count": 43,
   "id": "a1fe7c34",
   "metadata": {},
   "outputs": [],
   "source": [
    "x = 50"
   ]
  },
  {
   "cell_type": "code",
   "execution_count": 44,
   "id": "852a3c53",
   "metadata": {},
   "outputs": [],
   "source": [
    "y = 2"
   ]
  },
  {
   "cell_type": "code",
   "execution_count": 45,
   "id": "5c19c111",
   "metadata": {},
   "outputs": [
    {
     "name": "stdout",
     "output_type": "stream",
     "text": [
      "52\n"
     ]
    }
   ],
   "source": [
    "print(x + y)"
   ]
  },
  {
   "cell_type": "code",
   "execution_count": 46,
   "id": "9aca9930",
   "metadata": {},
   "outputs": [
    {
     "name": "stdout",
     "output_type": "stream",
     "text": [
      "48\n"
     ]
    }
   ],
   "source": [
    "print(x - y)"
   ]
  },
  {
   "cell_type": "code",
   "execution_count": 47,
   "id": "1791749b",
   "metadata": {},
   "outputs": [
    {
     "name": "stdout",
     "output_type": "stream",
     "text": [
      "100\n"
     ]
    }
   ],
   "source": [
    "print(x * y)"
   ]
  },
  {
   "cell_type": "code",
   "execution_count": 48,
   "id": "34c6fbe8",
   "metadata": {},
   "outputs": [
    {
     "name": "stdout",
     "output_type": "stream",
     "text": [
      "0\n"
     ]
    }
   ],
   "source": [
    "print(x % y)"
   ]
  },
  {
   "cell_type": "code",
   "execution_count": 49,
   "id": "83b829a1",
   "metadata": {},
   "outputs": [
    {
     "name": "stdout",
     "output_type": "stream",
     "text": [
      "1\n"
     ]
    }
   ],
   "source": [
    "print(51 % y)"
   ]
  },
  {
   "cell_type": "code",
   "execution_count": 50,
   "id": "31b37f08",
   "metadata": {},
   "outputs": [
    {
     "name": "stdout",
     "output_type": "stream",
     "text": [
      "25.0\n"
     ]
    }
   ],
   "source": [
    "print(x / y)"
   ]
  },
  {
   "cell_type": "code",
   "execution_count": 51,
   "id": "d5b73fd9",
   "metadata": {},
   "outputs": [
    {
     "name": "stdout",
     "output_type": "stream",
     "text": [
      "25\n"
     ]
    }
   ],
   "source": [
    "print(x // y)"
   ]
  },
  {
   "cell_type": "code",
   "execution_count": 52,
   "id": "0ba15d21",
   "metadata": {},
   "outputs": [
    {
     "name": "stdout",
     "output_type": "stream",
     "text": [
      "12.5\n"
     ]
    }
   ],
   "source": [
    "print(25 / 2)"
   ]
  },
  {
   "cell_type": "code",
   "execution_count": 53,
   "id": "51976adb",
   "metadata": {},
   "outputs": [
    {
     "name": "stdout",
     "output_type": "stream",
     "text": [
      "12\n"
     ]
    }
   ],
   "source": [
    "print(25 // 2)"
   ]
  },
  {
   "cell_type": "code",
   "execution_count": 54,
   "id": "3b9226dd",
   "metadata": {},
   "outputs": [
    {
     "name": "stdout",
     "output_type": "stream",
     "text": [
      "8.333333333333334\n"
     ]
    }
   ],
   "source": [
    "print(25 / 3)"
   ]
  },
  {
   "cell_type": "code",
   "execution_count": 55,
   "id": "00ea8fde",
   "metadata": {},
   "outputs": [
    {
     "name": "stdout",
     "output_type": "stream",
     "text": [
      "8\n"
     ]
    }
   ],
   "source": [
    "print(25 // 3)"
   ]
  },
  {
   "cell_type": "code",
   "execution_count": 64,
   "id": "5467db45",
   "metadata": {},
   "outputs": [],
   "source": [
    "d = 4.5"
   ]
  },
  {
   "cell_type": "code",
   "execution_count": 65,
   "id": "a7739742",
   "metadata": {},
   "outputs": [],
   "source": [
    "d = d + 1.1123"
   ]
  },
  {
   "cell_type": "code",
   "execution_count": 66,
   "id": "d94466f7",
   "metadata": {},
   "outputs": [
    {
     "data": {
      "text/plain": [
       "5.6123"
      ]
     },
     "execution_count": 66,
     "metadata": {},
     "output_type": "execute_result"
    }
   ],
   "source": [
    "d"
   ]
  },
  {
   "cell_type": "code",
   "execution_count": 59,
   "id": "07676b25",
   "metadata": {},
   "outputs": [],
   "source": [
    "d += 3"
   ]
  },
  {
   "cell_type": "code",
   "execution_count": 60,
   "id": "9bbf4d45",
   "metadata": {},
   "outputs": [
    {
     "data": {
      "text/plain": [
       "8"
      ]
     },
     "execution_count": 60,
     "metadata": {},
     "output_type": "execute_result"
    }
   ],
   "source": [
    "d"
   ]
  },
  {
   "cell_type": "code",
   "execution_count": 76,
   "id": "f611b1cd",
   "metadata": {},
   "outputs": [],
   "source": [
    "valor_passagem = 1"
   ]
  },
  {
   "cell_type": "code",
   "execution_count": 79,
   "id": "0a991330",
   "metadata": {},
   "outputs": [],
   "source": [
    "valor_corrida = 20"
   ]
  },
  {
   "cell_type": "code",
   "execution_count": null,
   "id": "e878ad3b",
   "metadata": {},
   "outputs": [],
   "source": []
  },
  {
   "cell_type": "code",
   "execution_count": 73,
   "id": "a040d4cf",
   "metadata": {},
   "outputs": [
    {
     "name": "stdout",
     "output_type": "stream",
     "text": [
      "Pague a corrida\n"
     ]
    }
   ],
   "source": [
    "if(valor_corrida) <= valor_passagem * 5:\n",
    " print(\"Pague a corrida\")"
   ]
  },
  {
   "cell_type": "code",
   "execution_count": 80,
   "id": "1a515a5b",
   "metadata": {},
   "outputs": [
    {
     "name": "stdout",
     "output_type": "stream",
     "text": [
      "Vai andando\n"
     ]
    }
   ],
   "source": [
    "if(valor_corrida) <= valor_passagem * 5:\n",
    "    print(\"Pague a corrida\")\n",
    "elif(valor_corrida) > valor_passagem:\n",
    "     print(\"Vai andando\")"
   ]
  },
  {
   "cell_type": "code",
   "execution_count": 81,
   "id": "034e470d",
   "metadata": {},
   "outputs": [
    {
     "name": "stdout",
     "output_type": "stream",
     "text": [
      "Nao vai\n"
     ]
    }
   ],
   "source": [
    "if(valor_corrida) <= valor_passagem * 5:\n",
    "    print(\"Pague a corrida\")\n",
    "elif(valor_corrida) == valor_passagem:\n",
    "     print(\"Vai andando\")\n",
    "else:\n",
    "    print(\"Nao vai\")"
   ]
  },
  {
   "cell_type": "code",
   "execution_count": 85,
   "id": "9df89007",
   "metadata": {},
   "outputs": [
    {
     "name": "stdout",
     "output_type": "stream",
     "text": [
      "DIgite o numero de pipocas: 5\n",
      "O numero de pipocas é: 5\n",
      "O numero de pipocas é: 4\n",
      "O numero de pipocas é: 3\n",
      "O numero de pipocas é: 2\n",
      "O numero de pipocas é: 1\n",
      "O numero de pipocas é: 0\n",
      "O numero de pipocas é: -1\n",
      "O numero de pipocas é: -2\n",
      "O numero de pipocas é: -3\n",
      "O numero de pipocas é: -4\n"
     ]
    }
   ],
   "source": [
    "num_pipocas = int(input(\"DIgite o numero de pipocas: \"))\n",
    "\n",
    "while num_pipocas >= -4:\n",
    "    print('O numero de pipocas é:', num_pipocas)\n",
    "    num_pipocas -= 1"
   ]
  },
  {
   "cell_type": "code",
   "execution_count": null,
   "id": "8e9240b8",
   "metadata": {},
   "outputs": [],
   "source": []
  }
 ],
 "metadata": {
  "kernelspec": {
   "display_name": "Python 3 (ipykernel)",
   "language": "python",
   "name": "python3"
  },
  "language_info": {
   "codemirror_mode": {
    "name": "ipython",
    "version": 3
   },
   "file_extension": ".py",
   "mimetype": "text/x-python",
   "name": "python",
   "nbconvert_exporter": "python",
   "pygments_lexer": "ipython3",
   "version": "3.10.0"
  }
 },
 "nbformat": 4,
 "nbformat_minor": 5
}
