{
 "cells": [
  {
   "cell_type": "code",
   "execution_count": 1,
   "id": "edaa4a36",
   "metadata": {},
   "outputs": [
    {
     "name": "stdout",
     "output_type": "stream",
     "text": [
      "Collecting requests\n",
      "  Downloading requests-2.26.0-py2.py3-none-any.whl (62 kB)\n",
      "Collecting urllib3<1.27,>=1.21.1\n",
      "  Downloading urllib3-1.26.7-py2.py3-none-any.whl (138 kB)\n",
      "Collecting idna<4,>=2.5\n",
      "  Downloading idna-3.3-py3-none-any.whl (61 kB)\n",
      "Collecting certifi>=2017.4.17\n",
      "  Downloading certifi-2021.10.8-py2.py3-none-any.whl (149 kB)\n",
      "Collecting charset-normalizer~=2.0.0\n",
      "  Downloading charset_normalizer-2.0.7-py3-none-any.whl (38 kB)\n",
      "Installing collected packages: urllib3, idna, charset-normalizer, certifi, requests\n",
      "Successfully installed certifi-2021.10.8 charset-normalizer-2.0.7 idna-3.3 requests-2.26.0 urllib3-1.26.7\n"
     ]
    }
   ],
   "source": [
    "!pip install requests"
   ]
  },
  {
   "cell_type": "code",
   "execution_count": 2,
   "id": "02e50987",
   "metadata": {},
   "outputs": [],
   "source": [
    "import requests"
   ]
  },
  {
   "cell_type": "code",
   "execution_count": 4,
   "id": "4ed9518f",
   "metadata": {},
   "outputs": [
    {
     "name": "stdout",
     "output_type": "stream",
     "text": [
      "200\n"
     ]
    }
   ],
   "source": [
    "url = 'https://api.exchangerate-api.com/v6/latest'\n",
    "\n",
    "req = requests.get(url)\n",
    "\n",
    "print(req.status_code)"
   ]
  },
  {
   "cell_type": "code",
   "execution_count": 5,
   "id": "88449413",
   "metadata": {},
   "outputs": [
    {
     "name": "stdout",
     "output_type": "stream",
     "text": [
      "{'result': 'success', 'provider': 'https://www.exchangerate-api.com', 'documentation': 'https://www.exchangerate-api.com/docs/free', 'terms_of_use': 'https://www.exchangerate-api.com/terms', 'time_last_update_unix': 1637539352, 'time_last_update_utc': 'Mon, 22 Nov 2021 00:02:32 +0000', 'time_next_update_unix': 1637626462, 'time_next_update_utc': 'Tue, 23 Nov 2021 00:14:22 +0000', 'time_eol_unix': 0, 'base_code': 'USD', 'rates': {'USD': 1, 'AED': 3.67, 'AFN': 93.45, 'ALL': 108.03, 'AMD': 478.43, 'ANG': 1.79, 'AOA': 599.29, 'ARS': 100.7, 'AUD': 1.38, 'AWG': 1.79, 'AZN': 1.71, 'BAM': 1.73, 'BBD': 2, 'BDT': 86.31, 'BGN': 1.73, 'BHD': 0.376, 'BIF': 1995.08, 'BMD': 1, 'BND': 1.36, 'BOB': 6.92, 'BRL': 5.59, 'BSD': 1, 'BTN': 74.63, 'BWP': 11.65, 'BYN': 2.49, 'BZD': 2, 'CAD': 1.26, 'CDF': 2018.38, 'CHF': 0.927, 'CLP': 833.64, 'CNY': 6.39, 'COP': 3939.74, 'CRC': 642.65, 'CUC': 1, 'CUP': 25, 'CVE': 97.43, 'CZK': 22.52, 'DJF': 177.72, 'DKK': 6.59, 'DOP': 56.75, 'DZD': 139.98, 'EGP': 15.75, 'ERN': 15, 'ETB': 48.53, 'EUR': 0.884, 'FJD': 2.1, 'FKP': 0.743, 'FOK': 6.59, 'GBP': 0.743, 'GEL': 3.14, 'GGP': 0.743, 'GHS': 6.15, 'GIP': 0.743, 'GMD': 53.05, 'GNF': 9637.66, 'GTQ': 7.77, 'GYD': 211.07, 'HKD': 7.79, 'HNL': 24.24, 'HRK': 6.66, 'HTG': 99.44, 'HUF': 325.65, 'IDR': 14238.76, 'ILS': 3.11, 'IMP': 0.743, 'INR': 74.64, 'IQD': 1471.42, 'IRR': 42293.76, 'ISK': 131.3, 'JMD': 156.19, 'JOD': 0.709, 'JPY': 113.96, 'KES': 112.49, 'KGS': 85.14, 'KHR': 4104.57, 'KID': 1.38, 'KMF': 434.71, 'KRW': 1188.59, 'KWD': 0.3, 'KYD': 0.833, 'KZT': 433.77, 'LAK': 10763.46, 'LBP': 1507.5, 'LKR': 202.2, 'LRD': 145.6, 'LSL': 15.71, 'LYD': 4.63, 'MAD': 9.23, 'MDL': 17.74, 'MGA': 3996.75, 'MKD': 54.82, 'MMK': 1779.71, 'MNT': 2874.62, 'MOP': 8.02, 'MRU': 36.57, 'MUR': 43.32, 'MVR': 15.49, 'MWK': 819.31, 'MXN': 20.85, 'MYR': 4.18, 'MZN': 64.32, 'NAD': 15.71, 'NGN': 424.22, 'NIO': 35.43, 'NOK': 8.9, 'NPR': 119.41, 'NZD': 1.43, 'OMR': 0.384, 'PAB': 1, 'PEN': 4.03, 'PGK': 3.56, 'PHP': 50.59, 'PKR': 175.86, 'PLN': 4.15, 'PYG': 6913.91, 'QAR': 3.64, 'RON': 4.37, 'RSD': 104.66, 'RUB': 73.37, 'RWF': 1028.22, 'SAR': 3.75, 'SBD': 8, 'SCR': 13.32, 'SDG': 441.9, 'SEK': 8.94, 'SGD': 1.36, 'SHP': 0.743, 'SLL': 11047.42, 'SOS': 583.48, 'SRD': 21.71, 'SSP': 309.37, 'STN': 21.65, 'SYP': 2127.29, 'SZL': 15.71, 'THB': 32.82, 'TJS': 11.34, 'TMT': 3.51, 'TND': 2.87, 'TOP': 2.24, 'TRY': 11.13, 'TTD': 6.8, 'TVD': 1.38, 'TWD': 27.87, 'TZS': 2308.17, 'UAH': 26.58, 'UGX': 3568.43, 'UYU': 44.3, 'UZS': 10835.85, 'VES': 4.53, 'VND': 22803.58, 'VUV': 112.56, 'WST': 2.57, 'XAF': 579.62, 'XCD': 2.7, 'XDR': 0.716, 'XOF': 579.62, 'XPF': 105.44, 'YER': 251.71, 'ZAR': 15.71, 'ZMW': 17.67}}\n"
     ]
    }
   ],
   "source": [
    "dados = req.json()\n",
    "\n",
    "print(dados)"
   ]
  },
  {
   "cell_type": "code",
   "execution_count": 6,
   "id": "e01d317a",
   "metadata": {},
   "outputs": [
    {
     "name": "stdout",
     "output_type": "stream",
     "text": [
      "Informe o valor em R$ a ser convertido\n",
      "100\n",
      "R$100.0 em dólar valem US$ 17.89\n"
     ]
    }
   ],
   "source": [
    "valor_reais = float(input('Informe o valor em R$ a ser convertido\\n'))\n",
    "cotacao = dados['rates']['BRL']\n",
    "print(f'R${valor_reais} em dólar valem US$ {(valor_reais / cotacao):.2f}')"
   ]
  },
  {
   "cell_type": "code",
   "execution_count": null,
   "id": "b4d7784a",
   "metadata": {},
   "outputs": [],
   "source": []
  }
 ],
 "metadata": {
  "kernelspec": {
   "display_name": "Python 3 (ipykernel)",
   "language": "python",
   "name": "python3"
  },
  "language_info": {
   "codemirror_mode": {
    "name": "ipython",
    "version": 3
   },
   "file_extension": ".py",
   "mimetype": "text/x-python",
   "name": "python",
   "nbconvert_exporter": "python",
   "pygments_lexer": "ipython3",
   "version": "3.10.0"
  }
 },
 "nbformat": 4,
 "nbformat_minor": 5
}
