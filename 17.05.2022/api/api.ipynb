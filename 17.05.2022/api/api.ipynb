{
 "cells": [
  {
   "cell_type": "code",
   "execution_count": 1,
   "metadata": {},
   "outputs": [
    {
     "name": "stdout",
     "output_type": "stream",
     "text": [
      "Acessando base de dados do Fixer.io...\n",
      "<Response [200]>\n",
      "Acesso realizado com sucesso\n",
      "Buscando informações...\n",
      "Arquivo exportado com sucesso\n"
     ]
    }
   ],
   "source": [
    "import requests\n",
    "import json #pega dicionario web da api\n",
    "import pandas #permite importar e exporta dados do excell\n",
    "import decimal\n",
    "\n",
    "# Primeira coisa a se fazer é instalar o pandas ou vai dar erro\n",
    "# pip install pandas\n",
    "\n",
    "url = \"http://data.fixer.io/api/latest?access_key=8479e3100a9ac573e9b901eceab2b187\"\n",
    "print(\"Acessando base de dados do Fixer.io...\")\n",
    "resposta = requests.get(url)\n",
    "print(resposta)\n",
    "\n",
    "if resposta.status_code == 200:\n",
    "    print(\"Acesso realizado com sucesso\")\n",
    "    print(\"Buscando informações...\")\n",
    "    dados = resposta.json()\n",
    "\n",
    "    dolar_real = round(dados[\"rates\"][\"BRL\"]/dados[\"rates\"][\"USD\"],2)\n",
    "    euro_real = round(dados[\"rates\"][\"BRL\"]/dados[\"rates\"][\"EUR\"],2)\n",
    "    btc_real = round(dados[\"rates\"][\"BRL\"]/dados[\"rates\"][\"BTC\"],2)\n",
    "\n",
    "    tela = pandas.DataFrame({\n",
    "        \"moedas\":[\"Dólar\", \"Euro\", \"Bitcoin\"],\n",
    "        \"valores\":[dolar_real, euro_real, btc_real]\n",
    "    })\n",
    "    tela.to_csv(\"valores.csv\", index=False, sep=\";\", decimal=\",\")\n",
    "    print(\"Arquivo exportado com sucesso\")\n",
    "else:\n",
    "    print(\"Erro na base de dados\")"
   ]
  }
 ],
 "metadata": {
  "interpreter": {
   "hash": "f5e677b134d41436523c68f398610389c918dd59f37b430d514cbed13e3fb634"
  },
  "kernelspec": {
   "display_name": "Python 3.10.0 64-bit",
   "language": "python",
   "name": "python3"
  },
  "language_info": {
   "codemirror_mode": {
    "name": "ipython",
    "version": 3
   },
   "file_extension": ".py",
   "mimetype": "text/x-python",
   "name": "python",
   "nbconvert_exporter": "python",
   "pygments_lexer": "ipython3",
   "version": "3.10.0"
  },
  "orig_nbformat": 4
 },
 "nbformat": 4,
 "nbformat_minor": 2
}
